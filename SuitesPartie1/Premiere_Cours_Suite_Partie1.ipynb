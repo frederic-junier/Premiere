{
 "cells": [
  {
   "cell_type": "markdown",
   "metadata": {},
   "source": [
    "# Première Cours Suites Partie 1"
   ]
  },
  {
   "cell_type": "markdown",
   "metadata": {},
   "source": [
    "Sur la page [https://repl.it/@fredericjunier/PremiereSuitesPartie1](https://repl.it/@fredericjunier/PremiereSuitesPartie1) vous pourrez aussi tester les codes ci-dessous."
   ]
  },
  {
   "cell_type": "markdown",
   "metadata": {},
   "source": [
    "## Activité 1 : châteaux de cartes"
   ]
  },
  {
   "cell_type": "markdown",
   "metadata": {},
   "source": [
    "Pour tout entier naturel $n \\geqslant 1$, on a :\n",
    "* le nombre de cartes au niveau $n$ vérifie $u_{n}=3n$\n",
    "* le nombre total de cartes pour construire  $n$ niveaux  vérifie $v_{n+1}=u_{n+1} + v_{n}$"
   ]
  },
  {
   "cell_type": "code",
   "execution_count": 1,
   "metadata": {},
   "outputs": [],
   "source": [
    "def chateau(n):\n",
    "    u = 0\n",
    "    v = 0\n",
    "    for k in range(1, n + 1):\n",
    "        u = u + 3  #u = k * 3\n",
    "        v = v + u\n",
    "    return v"
   ]
  },
  {
   "cell_type": "code",
   "execution_count": 2,
   "metadata": {},
   "outputs": [
    {
     "data": {
      "text/plain": [
       "[0, 3, 9, 18, 30, 45, 63, 84]"
      ]
     },
     "execution_count": 2,
     "metadata": {},
     "output_type": "execute_result"
    }
   ],
   "source": [
    "[chateau(n) for n in range(0, 8)]"
   ]
  },
  {
   "cell_type": "markdown",
   "metadata": {},
   "source": [
    "## Activité 2 Modèle d’évolution d’une population"
   ]
  },
  {
   "cell_type": "markdown",
   "metadata": {},
   "source": [
    "On a $u_{0}=27500$ étudiants en Septembre 2016.\n",
    "\n",
    "En notant $u_{n}$ le nombre d'étudiants en Septembre $2016 + n$, en juin $2016+n+1$, après  une perte de $150$ étudiants, on a $u_{n}-150$ étudiants. Puis on a une augmentation de cet effectif, à la rentrée de Septembre, cest-à-dire $1,04(u_{n}-150)=1,04u_{n}-156$.$ étudiants en Septembre$2016+n+1$. \n",
    "\n",
    "Pour tout entier $n \\geqslant 0$, on a donc : $u_{n+1}=1,04u_{n}-156$.\n",
    "\n",
    "La capacité maximale de l'établissement est de $33000$. D'après l'algorithme de seuil ci-dessous, à la rentrée de Septembre $2022$, la capacité maximale d'accueil sera dépassée."
   ]
  },
  {
   "cell_type": "code",
   "execution_count": 7,
   "metadata": {},
   "outputs": [],
   "source": [
    "def seuil():\n",
    "    n = 0\n",
    "    u = 27500\n",
    "    while u <= 33000:\n",
    "        n = n + 1\n",
    "        u = 1.04 * u - 156\n",
    "    return n"
   ]
  },
  {
   "cell_type": "code",
   "execution_count": 8,
   "metadata": {},
   "outputs": [
    {
     "data": {
      "text/plain": [
       "6"
      ]
     },
     "execution_count": 8,
     "metadata": {},
     "output_type": "execute_result"
    }
   ],
   "source": [
    "seuil()"
   ]
  },
  {
   "cell_type": "markdown",
   "metadata": {},
   "source": [
    "## Suite de syracuse"
   ]
  },
  {
   "cell_type": "code",
   "execution_count": 1,
   "metadata": {},
   "outputs": [],
   "source": [
    "def syracuse(u , n):\n",
    "    \"\"\"Retourne la liste des premiers termes \n",
    "    de la suite de syracuse de premier terme u\"\"\"\n",
    "    L = [u]\n",
    "    for k in range(n):\n",
    "        if u % 2 == 0:\n",
    "            u = u // 2\n",
    "        else:\n",
    "            u = 3 * u + 1\n",
    "        L.append(u)\n",
    "    return L"
   ]
  },
  {
   "cell_type": "code",
   "execution_count": 4,
   "metadata": {},
   "outputs": [
    {
     "data": {
      "text/plain": [
       "[634,\n",
       " 317,\n",
       " 952,\n",
       " 476,\n",
       " 238,\n",
       " 119,\n",
       " 358,\n",
       " 179,\n",
       " 538,\n",
       " 269,\n",
       " 808,\n",
       " 404,\n",
       " 202,\n",
       " 101,\n",
       " 304,\n",
       " 152,\n",
       " 76,\n",
       " 38,\n",
       " 19,\n",
       " 58,\n",
       " 29,\n",
       " 88,\n",
       " 44,\n",
       " 22,\n",
       " 11,\n",
       " 34,\n",
       " 17,\n",
       " 52,\n",
       " 26,\n",
       " 13,\n",
       " 40,\n",
       " 20,\n",
       " 10,\n",
       " 5,\n",
       " 16,\n",
       " 8,\n",
       " 4,\n",
       " 2,\n",
       " 1,\n",
       " 4,\n",
       " 2]"
      ]
     },
     "execution_count": 4,
     "metadata": {},
     "output_type": "execute_result"
    }
   ],
   "source": [
    "syracuse(634 , 40)"
   ]
  },
  {
   "cell_type": "code",
   "execution_count": 7,
   "metadata": {},
   "outputs": [
    {
     "name": "stdout",
     "output_type": "stream",
     "text": [
      "[10, 5, 16, 8, 4, 2, 1, 4, 2, 1, 4, 2, 1, 4, 2, 1, 4, 2, 1, 4, 2, 1]\n",
      "[11, 34, 17, 52, 26, 13, 40, 20, 10, 5, 16, 8, 4, 2, 1, 4, 2, 1, 4, 2, 1, 4]\n",
      "[12, 6, 3, 10, 5, 16, 8, 4, 2, 1, 4, 2, 1, 4, 2, 1, 4, 2, 1, 4, 2, 1]\n",
      "[13, 40, 20, 10, 5, 16, 8, 4, 2, 1, 4, 2, 1, 4, 2, 1, 4, 2, 1, 4, 2, 1]\n",
      "[14, 7, 22, 11, 34, 17, 52, 26, 13, 40, 20, 10, 5, 16, 8, 4, 2, 1, 4, 2, 1, 4]\n",
      "[15, 46, 23, 70, 35, 106, 53, 160, 80, 40, 20, 10, 5, 16, 8, 4, 2, 1, 4, 2, 1, 4]\n",
      "[16, 8, 4, 2, 1, 4, 2, 1, 4, 2, 1, 4, 2, 1, 4, 2, 1, 4, 2, 1, 4, 2]\n",
      "[17, 52, 26, 13, 40, 20, 10, 5, 16, 8, 4, 2, 1, 4, 2, 1, 4, 2, 1, 4, 2, 1]\n",
      "[18, 9, 28, 14, 7, 22, 11, 34, 17, 52, 26, 13, 40, 20, 10, 5, 16, 8, 4, 2, 1, 4]\n",
      "[19, 58, 29, 88, 44, 22, 11, 34, 17, 52, 26, 13, 40, 20, 10, 5, 16, 8, 4, 2, 1, 4]\n",
      "[20, 10, 5, 16, 8, 4, 2, 1, 4, 2, 1, 4, 2, 1, 4, 2, 1, 4, 2, 1, 4, 2]\n"
     ]
    }
   ],
   "source": [
    "for k in range(10, 21):\n",
    "    print(syracuse(k, 21))"
   ]
  },
  {
   "cell_type": "code",
   "execution_count": 8,
   "metadata": {},
   "outputs": [],
   "source": [
    "def tempsVol(u):\n",
    "    \"\"\"Retourne le plus petit indice du terme de la suite de syracuse\n",
    "    de premier terme u, qui est égal à 1\"\"\"\n",
    "    i = 0\n",
    "    while u != 1:\n",
    "        if u % 2 == 0:\n",
    "            u = u // 2\n",
    "        else:\n",
    "            u = 3 * u + 1\n",
    "        i = i + 1\n",
    "    return i"
   ]
  },
  {
   "cell_type": "code",
   "execution_count": 9,
   "metadata": {},
   "outputs": [
    {
     "data": {
      "text/plain": [
       "38"
      ]
     },
     "execution_count": 9,
     "metadata": {},
     "output_type": "execute_result"
    }
   ],
   "source": [
    "tempsVol(634)"
   ]
  },
  {
   "cell_type": "markdown",
   "metadata": {},
   "source": [
    "## Factorielle de n"
   ]
  },
  {
   "cell_type": "code",
   "execution_count": 10,
   "metadata": {},
   "outputs": [],
   "source": [
    "def factorielle(n):\n",
    "    u = 1\n",
    "    for k in range(1, n + 1):\n",
    "        u = u * k\n",
    "    return u"
   ]
  },
  {
   "cell_type": "code",
   "execution_count": 11,
   "metadata": {},
   "outputs": [
    {
     "data": {
      "text/plain": [
       "[1, 1, 2, 6, 24, 120, 720, 5040, 40320, 362880]"
      ]
     },
     "execution_count": 11,
     "metadata": {},
     "output_type": "execute_result"
    }
   ],
   "source": [
    "[factorielle(n) for n in range(10)]"
   ]
  }
 ],
 "metadata": {
  "kernelspec": {
   "display_name": "Python 3",
   "language": "python",
   "name": "python3"
  },
  "language_info": {
   "codemirror_mode": {
    "name": "ipython",
    "version": 3
   },
   "file_extension": ".py",
   "mimetype": "text/x-python",
   "name": "python",
   "nbconvert_exporter": "python",
   "pygments_lexer": "ipython3",
   "version": "3.6.9"
  }
 },
 "nbformat": 4,
 "nbformat_minor": 2
}
