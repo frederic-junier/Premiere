{
 "cells": [
  {
   "cell_type": "code",
   "execution_count": 10,
   "metadata": {},
   "outputs": [],
   "source": [
    "import numpy as np\n",
    "import matplotlib.pyplot as plt"
   ]
  },
  {
   "cell_type": "code",
   "execution_count": 8,
   "metadata": {},
   "outputs": [],
   "source": [
    "%matplotlib inline"
   ]
  },
  {
   "cell_type": "markdown",
   "metadata": {},
   "source": [
    "## Marche aléatoire"
   ]
  },
  {
   "cell_type": "code",
   "execution_count": 3,
   "metadata": {},
   "outputs": [],
   "source": [
    "from random import random\n",
    "\n",
    "def freqDroite1(n):\n",
    "    \"\"\"Fréquence de marches aléatoires avec exactement \n",
    "    1 déplacement vers la droite sur un échantillon de taille n\"\"\"\n",
    "    c = 0\n",
    "    for i in range(1, n + 1):\n",
    "        d = 0\n",
    "        for j in range(1, 5):\n",
    "            if random() <= 0.6:\n",
    "                d = d + 1\n",
    "        if d == 1:\n",
    "            c = c + 1\n",
    "    return c / n"
   ]
  },
  {
   "cell_type": "code",
   "execution_count": 5,
   "metadata": {},
   "outputs": [
    {
     "name": "stdout",
     "output_type": "stream",
     "text": [
      "0.15360000000000004\n"
     ]
    }
   ],
   "source": [
    "## Probabilité d'avoir exactement un déplacement vers la droite\n",
    "p = 4 * 0.6 * 0.4 ** 3\n",
    "print(p)"
   ]
  },
  {
   "cell_type": "code",
   "execution_count": 32,
   "metadata": {},
   "outputs": [],
   "source": [
    "taille_echantillon = np.arange(0, 20001, 100)"
   ]
  },
  {
   "cell_type": "code",
   "execution_count": 21,
   "metadata": {},
   "outputs": [
    {
     "data": {
      "text/plain": [
       "array([     0,    500,   1000,   1500,   2000,   2500,   3000,   3500,\n",
       "         4000,   4500,   5000,   5500,   6000,   6500,   7000,   7500,\n",
       "         8000,   8500,   9000,   9500,  10000,  10500,  11000,  11500,\n",
       "        12000,  12500,  13000,  13500,  14000,  14500,  15000,  15500,\n",
       "        16000,  16500,  17000,  17500,  18000,  18500,  19000,  19500,\n",
       "        20000,  20500,  21000,  21500,  22000,  22500,  23000,  23500,\n",
       "        24000,  24500,  25000,  25500,  26000,  26500,  27000,  27500,\n",
       "        28000,  28500,  29000,  29500,  30000,  30500,  31000,  31500,\n",
       "        32000,  32500,  33000,  33500,  34000,  34500,  35000,  35500,\n",
       "        36000,  36500,  37000,  37500,  38000,  38500,  39000,  39500,\n",
       "        40000,  40500,  41000,  41500,  42000,  42500,  43000,  43500,\n",
       "        44000,  44500,  45000,  45500,  46000,  46500,  47000,  47500,\n",
       "        48000,  48500,  49000,  49500,  50000,  50500,  51000,  51500,\n",
       "        52000,  52500,  53000,  53500,  54000,  54500,  55000,  55500,\n",
       "        56000,  56500,  57000,  57500,  58000,  58500,  59000,  59500,\n",
       "        60000,  60500,  61000,  61500,  62000,  62500,  63000,  63500,\n",
       "        64000,  64500,  65000,  65500,  66000,  66500,  67000,  67500,\n",
       "        68000,  68500,  69000,  69500,  70000,  70500,  71000,  71500,\n",
       "        72000,  72500,  73000,  73500,  74000,  74500,  75000,  75500,\n",
       "        76000,  76500,  77000,  77500,  78000,  78500,  79000,  79500,\n",
       "        80000,  80500,  81000,  81500,  82000,  82500,  83000,  83500,\n",
       "        84000,  84500,  85000,  85500,  86000,  86500,  87000,  87500,\n",
       "        88000,  88500,  89000,  89500,  90000,  90500,  91000,  91500,\n",
       "        92000,  92500,  93000,  93500,  94000,  94500,  95000,  95500,\n",
       "        96000,  96500,  97000,  97500,  98000,  98500,  99000,  99500,\n",
       "       100000])"
      ]
     },
     "execution_count": 21,
     "metadata": {},
     "output_type": "execute_result"
    }
   ],
   "source": [
    "taille_echantillon"
   ]
  },
  {
   "cell_type": "code",
   "execution_count": 39,
   "metadata": {},
   "outputs": [],
   "source": [
    "freqDroite1Vect = np.vectorize(freqDroite1)"
   ]
  },
  {
   "cell_type": "code",
   "execution_count": 40,
   "metadata": {},
   "outputs": [
    {
     "data": {
      "image/png": "[encoded data removed]",
      "text/plain": [
       "<Figure size 432x288 with 1 Axes>"
      ]
     },
     "metadata": {
      "needs_background": "light"
     },
     "output_type": "display_data"
    }
   ],
   "source": [
    "plt.scatter(taille_echantillon[1:], freqDroite1Vect(taille_echantillon[1:]), s=4)\n",
    "plt.xlabel(\"Taille de l'échantillon\")\n",
    "plt.ylabel(\"Fréquence\")\n",
    "plt.savefig(\"marche-aleatoire.pdf\")"
   ]
  },
  {
   "cell_type": "markdown",
   "metadata": {},
   "source": [
    "## Probleme des partis"
   ]
  },
  {
   "cell_type": "code",
   "execution_count": 1,
   "metadata": {},
   "outputs": [],
   "source": [
    "def proba_parti(a, b):\n",
    "    \"\"\"Probabilité que le joueur 1 gagne s'il lui reste\n",
    "    a points à marquer et b points pour le joueur b\"\"\"\n",
    "    if a == 0:\n",
    "        return 1\n",
    "    if b == 0:\n",
    "        return 0\n",
    "    if a == b:\n",
    "        return 0.5\n",
    "    return 0.5 * proba_parti(a - 1, b) + 0.5 * proba_parti(a, b - 1)"
   ]
  },
  {
   "cell_type": "code",
   "execution_count": 2,
   "metadata": {},
   "outputs": [
    {
     "data": {
      "text/plain": [
       "0.875"
      ]
     },
     "execution_count": 2,
     "metadata": {},
     "output_type": "execute_result"
    }
   ],
   "source": [
    "proba_parti(1, 3)"
   ]
  },
  {
   "cell_type": "code",
   "execution_count": 3,
   "metadata": {},
   "outputs": [
    {
     "data": {
      "text/plain": [
       "0.875"
      ]
     },
     "execution_count": 3,
     "metadata": {},
     "output_type": "execute_result"
    }
   ],
   "source": [
    "7/8"
   ]
  }
 ],
 "metadata": {
  "kernelspec": {
   "display_name": "Python 3",
   "language": "python",
   "name": "python3"
  },
  "language_info": {
   "codemirror_mode": {
    "name": "ipython",
    "version": 3
   },
   "file_extension": ".py",
   "mimetype": "text/x-python",
   "name": "python",
   "nbconvert_exporter": "python",
   "pygments_lexer": "ipython3",
   "version": "3.6.9"
  }
 },
 "nbformat": 4,
 "nbformat_minor": 2
}
